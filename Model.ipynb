{
 "cells": [
  {
   "cell_type": "code",
   "execution_count": 1,
   "id": "9d634b9f",
   "metadata": {},
   "outputs": [],
   "source": [
    "# Importing Data Manipulation Libraries\n",
    "import pandas as pd\n",
    "import numpy as np\n",
    "# Import Data Visualization Libraries\n",
    "import seaborn as sns \n",
    "import matplotlib.pyplot as plt \n",
    "# Import Filter Warning Libraries\n",
    "import warnings\n",
    "warnings.filterwarnings('ignore')\n",
    "# Import Logging\n",
    "import logging\n",
    "logging.basicConfig(level = logging.INFO,\n",
    "                    format = '%(asctime)s - %(levelname)s - %(message)s',\n",
    "                    filemode = 'w',\n",
    "                    filename = 'model.log',force = True)\n",
    "# Import Scikit Learn Libraries for Machine Learning Model Building\n",
    "from sklearn.preprocessing import MinMaxScaler\n",
    "from sklearn.model_selection import train_test_split,cross_val_score,GridSearchCV,learning_curve,KFold\n",
    "from sklearn.metrics import mean_squared_error,mean_absolute_error,r2_score\n",
    "from sklearn.linear_model import LinearRegression,Lasso,Ridge\n",
    "from sklearn.tree import DecisionTreeRegressor\n",
    "from sklearn.svm import SVR\n",
    "from sklearn.neighbors import KNeighborsRegressor\n",
    "from sklearn.ensemble import RandomForestRegressor, AdaBoostRegressor, GradientBoostingRegressor\n",
    "import xgboost\n",
    "from xgboost import XGBRegressor\n",
    "from sklearn.cluster import KMeans\n",
    "\n",
    "\n",
    "# Multicolinearity test and treatment libraries\n",
    "from statsmodels.stats.outliers_influence import variance_inflation_factor\n",
    "from sklearn.decomposition import PCA"
   ]
  },
  {
   "cell_type": "code",
   "execution_count": 2,
   "id": "10a63ea9",
   "metadata": {},
   "outputs": [],
   "source": [
    "# Creating Our First Log\n",
    "logging.info('Import Dataset For Model Building...')"
   ]
  },
  {
   "cell_type": "code",
   "execution_count": null,
   "id": "21dd2ef8",
   "metadata": {},
   "outputs": [],
   "source": []
  }
 ],
 "metadata": {
  "kernelspec": {
   "display_name": "base",
   "language": "python",
   "name": "python3"
  },
  "language_info": {
   "codemirror_mode": {
    "name": "ipython",
    "version": 3
   },
   "file_extension": ".py",
   "mimetype": "text/x-python",
   "name": "python",
   "nbconvert_exporter": "python",
   "pygments_lexer": "ipython3",
   "version": "3.11.11"
  }
 },
 "nbformat": 4,
 "nbformat_minor": 5
}
